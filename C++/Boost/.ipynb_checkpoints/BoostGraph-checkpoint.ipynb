{
 "cells": [
  {
   "cell_type": "markdown",
   "metadata": {},
   "source": [
    "# 1. Some Graph Terminology\n",
    "\n",
    "<p align=\"center\">\n",
    "<img src='Figs/Figure1.1.png' width=500>\n",
    "</p>\n",
    "\n",
    "- A graph $G$ consists of a vertex set $V$ and an edge set $E$.\n",
    "- $G = (V, E)$\n",
    "- the size of the vertex set = $\\mid V \\mid$\n",
    "- the size of the edge set = $\\mid E \\mid$\n",
    "- an edge is written as an ordered pair consisting of the vertices connected by the edge. \n",
    "- the ordered pair $(u, v)$ indicates the edge that connects vertex $u$ to vertex $v$.\n",
    "\n",
    "$$\n",
    "\\begin{aligned}\n",
    "V &= {a, b, c, d, e} \\\\\n",
    "E &= {(a, b), (a, d), (b, d), (c, a), (c, e), (d, c), (d, e)} \\\\\n",
    "G &= (V, E)\n",
    "\\end{aligned}\n",
    "$$"
   ]
  },
  {
   "cell_type": "markdown",
   "metadata": {},
   "source": [
    "- a graph can be directed or undirected\n",
    "- an edge of a directed graph is an ordered pair $(u, v)$ with $u$ as the source vertex and $v$ as the target vertex.\n",
    "- an undirected graph an edge, $(u, v)$ and $(v, u)$ are the same edge"
   ]
  },
  {
   "cell_type": "markdown",
   "metadata": {},
   "source": [
    "- an edge $(u, v)$, then vertex $v$ is said to be adjacent to vertex $u$.\n",
    "$$\n",
    "\\begin{aligned}\n",
    "Adjacent[a] &= {b, d} \\\\\n",
    "Adjacent[b] &= {d} \\\\\n",
    "Adjacent[c] &= {a, e} \\\\\n",
    "Adjacent[d] &= {c, e} \\\\\n",
    "Adjacent[e] &= \\{\\}\n",
    "\\end{aligned}\n",
    "$$"
   ]
  },
  {
   "cell_type": "markdown",
   "metadata": {},
   "source": [
    "- For a directed graph, edge $(u, v)$ is an out-edge of vertex $u$ and an in-edge of vertex $v$.\n",
    "\n",
    "$$\n",
    "\\begin{aligned}\n",
    "OutEdges[a] &= {(a, b), (a, d)} \\\\\n",
    "OutEdges[b] &= {(b, d)} \\\\\n",
    "OutEdges[c] &= {(c, a), (c, e)} \\\\\n",
    "OutEdges[d] &= {(d, c), (d, e)} \\\\\n",
    "OutEdges[e] &= \\{\\}\n",
    "\\end{aligned}\n",
    "$$\n",
    "\n",
    "$$\n",
    "\\begin{aligned}\n",
    "InEdges[a] &= {(c, a)} \\\\\n",
    "InEdges[b] &= {(a, b)} \\\\\n",
    "InEdges[c] &= {(d, c)} \\\\\n",
    "InEdges[d] &= {(a, d), (b, d)} \\\\\n",
    "InEdges[e] &= {(c, e), (d, e)}\n",
    "\\end{aligned}\n",
    "$$"
   ]
  },
  {
   "cell_type": "markdown",
   "metadata": {},
   "source": [
    "# 2. Graph Concepts\n",
    "## 2.1. Vertex and Edge Descriptors\n",
    "\n",
    "- vertices and edges are manipulated through opaque handles called *vertex descriptors* and *edge descriptors*\n",
    "- different graph types may use different types for their descriptors\n",
    "- the descriptor types for a graph type are always accessible through ***graph\\_traits*** class\n",
    "- The following function template 2 shows an implementation a generic function that determines if an edge is a self-loop.\n",
    "\n",
    "**Code:**\n",
    "```C++\n",
    "template <typename Graph>\n",
    "bool is_self_loop(typename graph_traits<Graph>::edge descriptor e, const Graph& g)\n",
    "{\n",
    "    typename graph_traits<Graph>::vertex_descriptor u, v;\n",
    "    u = source(e, g);\n",
    "    v = target(e, g);\n",
    "    return u == v;\n",
    "}\n",
    "```"
   ]
  },
  {
   "cell_type": "markdown",
   "metadata": {},
   "source": [
    "## 2.2. Property Maps\n",
    "\n",
    "Graphs become useful as models for particular problem domains by associating objects and\n",
    "quantities to vertices and edges. Figure 1.1 each vertex has a name consist-\n",
    "ing of a single character, and each edge has a transmission delay.\n",
    "\n",
    "**Property**\n",
    "\n",
    "- attached objects or attached quantities\n",
    "- property is used as a data members of a struct, separate arrays indexed by vertex or edge number,\n",
    "hash tables, and so on\n",
    "\n",
    "**Property Maps**\n",
    "- an object that provides a mapping from a set of key objects to a set\n",
    "of value objects\n",
    "- The property map concepts specify only three functions: \n",
    "    - *get(p map, key)*: returns the value object for the *key*\n",
    "    - *put(p map, key, value)*: assigns the value to the value object associated with the *key*\n",
    "    - *p\\_map[key]*: returns a reference to the value object"
   ]
  },
  {
   "cell_type": "markdown",
   "metadata": {},
   "source": [
    "**Code: Prints the name of a vertex given a name property map**\n",
    "\n",
    "```C++\n",
    "template <typename VertexDescriptor, typename VertexNameMap>\n",
    "void print vertex name(VertexDescriptor v, VertexNameMap name map)\n",
    "{\n",
    "    std::cout << get(name map, v);\n",
    "}\n",
    "```"
   ]
  },
  {
   "cell_type": "markdown",
   "metadata": {},
   "source": [
    "**Code: Similarly, the transmission delay of an edge can be printed using the following function**\n",
    "```C++\n",
    "template <typename Graph, typename TransDelayMap, typename VertexNameMap>\n",
    "void print_trans_delay(typename graph_traits<Graph>::edge_descriptor e, const Graph& g, \n",
    "    TransDelayMap delay_map, VertexNameMap name_map)\n",
    "{\n",
    "    std::cout << \"trans-delay(\" << get(name map, source(e, g)) << \",\"\n",
    "    << get(name map, target(e, g)) << \") = \" << get(delay map, e);\n",
    "}\n",
    "```"
   ]
  },
  {
   "cell_type": "markdown",
   "metadata": {},
   "source": [
    "## 2.3. Graph Traversal\n",
    "\n"
   ]
  },
  {
   "cell_type": "markdown",
   "metadata": {},
   "source": [
    "There are five kinds of graph iterators, one for each kind of collection:\n",
    "\n",
    "1. A ***vertex iterator*** is used to traverse all the vertices of a graph. The value type of a\n",
    "vertex iterator is a vertex descriptor.\n",
    "2. An ***edge iterator*** is used to traverse all the edges of a graph. The value type of this\n",
    "iterator is an edge descriptor.\n",
    "3. An ***out-edge iterator*** is used to access all of the out-edges for a given vertex $u$. Its value type is an edge descriptor. Each edge descriptor in this iterator range will have $u$ as the source vertex and a vertex adjacent to $u$ as the target vertex (regardless of whether the graph is directed or undirected).\n",
    "4. An ***in-edge iterator*** is used to access the in-edges of a vertex $v$. Its value type is an edge descriptor. Each edge descriptor in this iterator range will have $v$ as the target vertex and a vertex that $v$ is adjacent to as the source.\n",
    "5. An ***adjacency iterator*** is used to provide access to the vertices adjacent to a given vertex. The value type of this iterator is a vertex descriptor.\n",
    "\n",
    "Like descriptors, each graph type has its own iterator types that are accessible through\n",
    "the ***graph_traits*** class"
   ]
  },
  {
   "cell_type": "markdown",
   "metadata": {},
   "source": [
    "**Prints the names of all of the vertices in a graph**\n",
    "```C++\n",
    "template <typename Graph, typename VertexNameMap>\n",
    "void print_vertex_names(const Graph& g, VertexNameMap name_map)\n",
    "{\n",
    "    std::cout << \"vertices(g) = { \";\n",
    "    typedef typename graph_traits<Graph>::vertex_iterator iter_t;\n",
    "    for (std::pair<iter_t, iter_t> p = vertices(g);  p.first != p.second; ++p.first) {\n",
    "        print vertex_name(*p.first, name_map); std::cout << ’ ’;\n",
    "    }\n",
    "std::cout << \"}\" << std::endl;\n",
    "}\n",
    "```\n",
    "\n",
    "**Output:**\n",
    "```C++\n",
    "vertices(g) = { a b c d e }\n",
    "```"
   ]
  },
  {
   "cell_type": "markdown",
   "metadata": {},
   "source": [
    "**Prints the transmission delay values that are attached to each of the edges\n",
    "in the graph** \n",
    "\n",
    "Note: In this function we use the ***tie()*** function (from ***boost/tuple/tuple.hpp*** ) to allow direct assignment from a ***std::pair*** into two scalar variables—in this case, first and last.\n",
    "\n",
    "```C++\n",
    "template <typename Graph, typename TransDelayMap, typename VertexNameMap>\n",
    "void print trans delays(const Graph& g, TransDelayMap trans_delay_map,\n",
    "VertexNameMap name_map)\n",
    "{\n",
    "    typename graph_traits<Graph>::edge_iterator first, last;\n",
    "    for (tie(first, last) = edges(g); first != last; ++first) {\n",
    "        print trans_delay(*first, g, trans_delay_map, name_map);\n",
    "        std::cout << std::endl;\n",
    "    }\n",
    "}\n",
    "```\n",
    "\n",
    "**Output:**\n",
    "```C++\n",
    "trans−delay(a,b) = 1.2\n",
    "trans−delay(a,d) = 4.5\n",
    "trans−delay(b,d) = 1.8\n",
    "trans−delay(c,a) = 2.6\n",
    "trans−delay(c,e) = 5.2\n",
    "trans−delay(d,c) = 0.4\n",
    "trans−delay(d,e) = 3.3\n",
    "```\n",
    "\n",
    "there are ***out_edges()*** , ***in_edges()*** , and ***adjacent_vertices()*** functions. These functions take a vertex descriptor and graph object as arguments and return a pair of iterators."
   ]
  },
  {
   "cell_type": "markdown",
   "metadata": {},
   "source": [
    "## 2.4 Graph Construction and Modification\n",
    "\n",
    "Defines interfaces for adding and removing vertices and edges from a graph.\n",
    "\n",
    "- ***add_vertex()***: \n",
    "    - add the five nodes representing routers to the graph\n",
    "    - returns a vertex descriptor for the new vertex (*we use this vertex descriptor to assign a vertex name to the vertex in a name property map*)\n",
    "- ***add_edge()***: \n",
    "    - add edges representing connections between the routers\n",
    "    - returns a ***std::pair***, where the first member of the pair is an edge descriptor for the new edge and the second is a Boolean flag that indicates whether an edge was added\n",
    "    - some graph types will not insert an edge if an edge with the same source and target is already in the graph\n",
    "\n",
    "**Code: Consturction**\n",
    "```C++\n",
    "template <typename Graph, typename VertexNameMap, typename TransDelayMap>\n",
    "void build_router_network(Graph& g, VertexNameMap name_map,\n",
    "TransDelayMap delay_map)\n",
    "{\n",
    "    <Add routers to the network 9a>\n",
    "    <Add connections to the network 9b>\n",
    "}\n",
    "```\n",
    "\n",
    "**Code: Add routers to the network 9a**\n",
    "```C++\n",
    "    typename graph traits<Graph>::vertex descriptor a, b, c, d, e;\n",
    "    a = add vertex(g); name_map[a] = ’a’;\n",
    "    b = add vertex(g); name_map[b] = ’b’;\n",
    "    c = add vertex(g); name_map[c] = ’c’;\n",
    "    d = add vertex(g); name_map[d] = ’d’;\n",
    "    e = add vertex(g); name_map[e] = ’e’;\n",
    "```\n",
    "\n",
    "**code: Add connections to the network 9b**\n",
    "```C++\n",
    "    typename graph_traits<Graph>::edge_descriptor ed;\n",
    "    bool inserted;\n",
    "\n",
    "    tie(ed, inserted) = add_edge(a, b, g);\n",
    "    delay map[ed] = 1.2;\n",
    "    tie(ed, inserted) = add_edge(a, d, g);\n",
    "    delay map[ed] = 4.5;\n",
    "    tie(ed, inserted) = add_edge(b, d, g);\n",
    "    delay map[ed] = 1.8;\n",
    "    tie(ed, inserted) = add_edge(c, a, g);\n",
    "    delay map[ed] = 2.6;\n",
    "    tie(ed, inserted) = add_edge(c, e, g);\n",
    "    delay map[ed] = 5.2;\n",
    "    tie(ed, inserted) = add_edge(d, c, g);\n",
    "    delay map[ed] = 0.4;\n",
    "    tie(ed, inserted) = add_edge(d, e, g);\n",
    "    delay map[ed] = 3.3;\n",
    "```\n",
    "\n",
    "In some cases it is more efficient to add or remove multiple vertices or edges simulta-\n",
    "neously instead of one at a time. The BGL interface includes functions for accomplishing\n",
    "this."
   ]
  },
  {
   "cell_type": "markdown",
   "metadata": {},
   "source": [
    "## 2.5. Algorithm Visitors\n",
    "\n"
   ]
  }
 ],
 "metadata": {
  "kernelspec": {
   "display_name": "Python 2",
   "language": "python",
   "name": "python2"
  },
  "language_info": {
   "codemirror_mode": {
    "name": "ipython",
    "version": 2
   },
   "file_extension": ".py",
   "mimetype": "text/x-python",
   "name": "python",
   "nbconvert_exporter": "python",
   "pygments_lexer": "ipython2",
   "version": "2.7.12"
  }
 },
 "nbformat": 4,
 "nbformat_minor": 2
}
